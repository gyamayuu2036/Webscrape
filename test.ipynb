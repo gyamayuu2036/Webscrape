{
 "cells": [
  {
   "cell_type": "code",
   "execution_count": 19,
   "metadata": {},
   "outputs": [],
   "source": [
    "import requests\n",
    "import pandas as pd\n",
    "from bs4 import BeautifulSoup\n",
    "from io import StringIO\n",
    "from urllib.request import urlopen"
   ]
  },
  {
   "cell_type": "code",
   "execution_count": 24,
   "metadata": {},
   "outputs": [
    {
     "name": "stdout",
     "output_type": "stream",
     "text": [
      "   着  順  枠  馬  番        馬名  性齢    斤量   騎手     タイム     着差  人  気  単勝  オッズ   後3F  \\\n",
      "0     1  3     3   クイックバイオ  牝2  55.0   川田  1:29.9    NaN     1      2.2  35.5   \n",
      "1     2  7     7   サクセスカノン  牝2  55.0   池添  1:30.3      2     2      4.4  35.8   \n",
      "2     3  8     9    アイスノート  牝2  55.0  岩田望  1:30.6  1.3/4     4      7.1  36.1   \n",
      "3     4  2     2  オレンジダンサー  牝2  55.0  西村淳  1:31.0  2.1/2     3      4.9  36.4   \n",
      "4     5  4     4  セイウンマカロン  牝2  52.0  ▲佐藤  1:31.1    3/4     7     27.7  36.4   \n",
      "5     6  6     6    カリンテラス  牝2  55.0  鮫島駿  1:31.4      2     5     12.2  36.5   \n",
      "6     7  1     1    サノノリッチ  牝2  55.0  バデル  1:31.6  1.1/4     9    175.3  36.6   \n",
      "7     8  5     5   ビバヴェローナ  牝2  55.0  Ｊ．モ  1:31.8  1.1/4     6     21.8  36.9   \n",
      "8     9  8     8    フォカッチャ  牝2  55.0   丹内  1:32.7      5     8    148.8  37.5   \n",
      "\n",
      "  コーナー  通過順       厩舎   馬体重  (増減)  \n",
      "0     3-1-1   栗東  須貝   488  (-8)  \n",
      "1     6-2-2   栗東  北出   422  (-4)  \n",
      "2     1-2-2  栗東  高橋忠  452  (-10)  \n",
      "3     3-4-4   栗東  高野   422  (+4)  \n",
      "4     2-4-5  美浦  小桧山   432  (+8)  \n",
      "5     3-6-6   栗東  松下   456  (+8)  \n",
      "6     7-6-7   美浦  中野   422  (+2)  \n",
      "7     9-6-7   美浦  小笠   460  (+2)  \n",
      "8     7-9-9  美浦  小手川   432  (+4)  \n"
     ]
    },
    {
     "ename": "AttributeError",
     "evalue": "'HTTPResponse' object has no attribute 'status_code'",
     "output_type": "error",
     "traceback": [
      "\u001b[1;31m---------------------------------------------------------------------------\u001b[0m",
      "\u001b[1;31mAttributeError\u001b[0m                            Traceback (most recent call last)",
      "Cell \u001b[1;32mIn[24], line 23\u001b[0m\n\u001b[0;32m     20\u001b[0m df \u001b[39m=\u001b[39m tables[\u001b[39m0\u001b[39m]\n\u001b[0;32m     21\u001b[0m \u001b[39mprint\u001b[39m(df)\n\u001b[1;32m---> 23\u001b[0m \u001b[39mprint\u001b[39m(\u001b[39mf\u001b[39m\u001b[39m\"\u001b[39m\u001b[39mHTTPステータスコード \u001b[39m\u001b[39m{\u001b[39;00mhtml\u001b[39m.\u001b[39;49mstatus_code\u001b[39m}\u001b[39;00m\u001b[39m: ページの取得に失敗しました\u001b[39m\u001b[39m\"\u001b[39m)\n",
      "\u001b[1;31mAttributeError\u001b[0m: 'HTTPResponse' object has no attribute 'status_code'"
     ]
    }
   ],
   "source": [
    "url = 'https://race.netkeiba.com/race/result.html?race_id=202301020601&rf=race_list'\n",
    "html = urlopen(url)\n",
    "\n",
    "\n",
    "# HTTPステータスコードが200（成功）の場合のみ処理を続行\n",
    "\n",
    "    # HTMLをパースしてBeautifulSoupオブジェクトを作成\n",
    "bs = BeautifulSoup(html, 'html.parser')\n",
    "#bs = bytes(bs,'UTF-8')\n",
    "bs = bs.decode('UTF-8')\n",
    "html_string = str(bs)\n",
    "html_io = StringIO(html_string)\n",
    "\n",
    "    # テーブルデータを抽出\n",
    "tables = pd.read_html(html_io)\n",
    "\n",
    "    # tablesには抽出したテーブルのリストが格納されています\n",
    "\n",
    "    # 例: 最初のテーブルをDataFrameに変換\n",
    "df = tables[0]\n",
    "print(df)\n",
    "\n",
    "print(f\"HTTPステータスコード {html.status_code}: ページの取得に失敗しました\")"
   ]
  }
 ],
 "metadata": {
  "kernelspec": {
   "display_name": "Webscrape",
   "language": "python",
   "name": "python3"
  },
  "language_info": {
   "codemirror_mode": {
    "name": "ipython",
    "version": 3
   },
   "file_extension": ".py",
   "mimetype": "text/x-python",
   "name": "python",
   "nbconvert_exporter": "python",
   "pygments_lexer": "ipython3",
   "version": "3.11.2"
  },
  "orig_nbformat": 4
 },
 "nbformat": 4,
 "nbformat_minor": 2
}
